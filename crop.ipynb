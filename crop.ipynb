import pandas as pd
from sklearn.model_selection import train_test_split
from sklearn.tree import DecisionTreeClassifier
from sklearn.metrics import accuracy_score
import joblib

data = {
    'SoilType': ['Loam', 'Clay', 'Sandy', 'Loam', 'Clay'],
    'pH': [6.5, 6.0, 7.0, 6.5, 6.0],
    'Nitrogen': [25, 15, 10, 20, 15],
    'Phosphorus': [15, 20, 12, 18, 17],
    'Potassium': [10, 15, 20, 13, 14],
    'Temperature': [30, 32, 28, 33, 31],
    'Rainfall': [100, 120, 90, 110, 115],
    'Crop': ['Wheat', 'Rice', 'Corn', 'Wheat', 'Rice'],
    'Fertilizer': ['NPK Fertilizer', 'Urea', 'DAP', 'NPK Fertilizer', 'Urea']
}

df = pd.DataFrame(data)

# Convert categorical variables to numerical
df['SoilType'] = df['SoilType'].map({'Loam': 1, 'Clay': 2, 'Sandy': 3})
df['Crop'] = df['Crop'].map({'Wheat': 1, 'Rice': 2, 'Corn': 3})
df['Fertilizer'] = df['Fertilizer'].map({'NPK Fertilizer': 1, 'Urea': 2, 'DAP': 3})

# Features for prediction
X = df[['SoilType', 'pH', 'Nitrogen', 'Phosphorus', 'Potassium', 'Temperature', 'Rainfall']]

# Target labels
y_crop = df['Crop']
y_fertilizer = df['Fertilizer']

X_train, X_test, y_train_crop, y_test_crop = train_test_split(X, y_crop, test_size=0.2, random_state=42)
_, _, y_train_fertilizer, y_test_fertilizer = train_test_split(X, y_fertilizer, test_size=0.2, random_state=42)

crop_model = DecisionTreeClassifier(random_state=42)
crop_model.fit(X_train, y_train_crop)

fertilizer_model = DecisionTreeClassifier(random_state=42)
fertilizer_model.fit(X_train, y_train_fertilizer)

crop_predictions = crop_model.predict(X_test)
fertilizer_predictions = fertilizer_model.predict(X_test)

crop_accuracy = accuracy_score(y_test_crop, crop_predictions)
fertilizer_accuracy = accuracy_score(y_test_fertilizer, fertilizer_predictions)

print(f"Crop Recommendation Accuracy: {crop_accuracy * 100:.2f}%")
print(f"Fertilizer Recommendation Accuracy: {fertilizer_accuracy * 100:.2f}%")

joblib.dump(crop_model, 'crop_recommendation_model.pkl')
joblib.dump(fertilizer_model, 'fertilizer_recommendation_model.pkl')

def recommend_crop_and_fertilizer(soil_type, pH, nitrogen, phosphorus, potassium, temperature, rainfall):
    # Convert the input soil type to numerical (1, 2, 3)
    soil_type_map = {'Loam': 1, 'Clay': 2, 'Sandy': 3}
    soil_type = soil_type_map.get(soil_type, 1)  # Default to Loam if not found
    
    # Prepare the input features
    input_features = [[soil_type, pH, nitrogen, phosphorus, potassium, temperature, rainfall]]
    
    # Predict crop and fertilizer
    crop_pred = crop_model.predict(input_features)[0]
    fertilizer_pred = fertilizer_model.predict(input_features)[0]
    
    # Map numerical predictions back to crop and fertilizer names
    crop_map = {1: 'Wheat', 2: 'Rice', 3: 'Corn'}
    fertilizer_map = {1: 'NPK Fertilizer', 2: 'Urea', 3: 'DAP'}
    
    crop_name = crop_map.get(crop_pred, 'Unknown')
    fertilizer_name = fertilizer_map.get(fertilizer_pred, 'Unknown')
    
    return crop_name, fertilizer_name

# Example Usage:
soil_type = 'Loam'
pH = 6.5
nitrogen = 20
phosphorus = 15
potassium = 12
temperature = 29
rainfall = 95

crop, fertilizer = recommend_crop_and_fertilizer(soil_type, pH, nitrogen, phosphorus, potassium, temperature, rainfall)
print(f"Recommended Crop: {crop}, Recommended Fertilizer: {fertilizer}")
